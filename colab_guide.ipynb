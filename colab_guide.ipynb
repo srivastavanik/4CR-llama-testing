{
 "cells": [
  {
   "cell_type": "markdown",
   "metadata": {},
   "source": [
    "# LLM Fine-tuning for Question-Answering on Google Colab\n",
    "\n",
    "This guide will help you run the LLM fine-tuning pipeline on Google Colab. The pipeline fine-tunes the Llama-3.2-3B-Instruct model for domain-specific question-answering tasks."
   ]
  },
  {
   "cell_type": "markdown",
   "metadata": {},
   "source": [
    "## Step 1: Set Up GPU and Install Dependencies"
   ]
  },
  {
   "cell_type": "code",
   "execution_count": null,
   "metadata": {},
   "source": [
    "# Check GPU availability\n",
    "!nvidia-smi\n",
    "\n",
    "# Install required packages\n",
    "!pip install -q torch transformers datasets peft huggingface-hub tqdm wandb evaluate rouge-score nlp-metrics bitsandbytes sentencepiece protobuf sacrebleu typing-extensions numpy pandas scikit-learn"
   ]
  },
  {
   "cell_type": "markdown",
   "metadata": {},
   "source": [
    "## Step 2: Clone the Repository"
   ]
  },
  {
   "cell_type": "code",
   "execution_count": null,
   "metadata": {},
   "source": [
    "# Clone the repository\n",
    "!git clone https://github.com/srivastavanik/model-training.git\n",
    "\n",
    "%cd model-training\n",
    "\n",
    "# List the contents\n",
    "!ls"
   ]
  },
  {
   "cell_type": "markdown",
   "metadata": {},
   "source": [
    "## Step 3: Set Up Hugging Face Access"
   ]
  },
  {
   "cell_type": "code",
   "execution_count": null,
   "metadata": {},
   "source": [
    "from huggingface_hub import login\n",
    "\n",
    "# You'll need to enter your Hugging Face token here\n",
    "# Get your token from https://huggingface.co/settings/tokens\n",
    "token = input('Enter your Hugging Face token: ')\n",
    "login(token=token)"
   ]
  },
  {
   "cell_type": "markdown",
   "metadata": {},
   "source": [
    "## Step 4: Run the Fine-tuning Pipeline\n",
    "\n",
    "Let's run the complete fine-tuning pipeline. This will:\n",
    "1. Load the preprocessed data\n",
    "2. Fine-tune the model using LoRA\n",
    "3. Evaluate the model's performance\n",
    "\n",
    "Note: This process may take several hours depending on your GPU and dataset size."
   ]
  },
  {
   "cell_type": "code",
   "execution_count": null,
   "metadata": {},
   "source": [
    "# Run the fine-tuning pipeline\n",
    "!python run_with_gpu.py --use_8bit"
   ]
  },
  {
   "cell_type": "markdown",
   "metadata": {},
   "source": [
    "## Step 5: Save and Download the Model\n",
    "\n",
    "After training is complete, you can download the fine-tuned model."
   ]
  },
  {
   "cell_type": "code",
   "execution_count": null,
   "metadata": {},
   "source": [
    "# Create a zip file of the fine-tuned model\n",
    "!zip -r fine_tuned_model.zip fine_tuned_model/\n",
    "\n",
    "# Download the zip file\n",
    "from google.colab import files\n",
    "files.download('fine_tuned_model.zip')"
   ]
  },
  {
   "cell_type": "markdown",
   "metadata": {},
   "source": [
    "## Optional: Use WandB for Monitoring\n",
    "\n",
    "If you want to monitor the training process in real-time, you can use Weights & Biases (WandB)."
   ]
  },
  {
   "cell_type": "code",
   "execution_count": null,
   "metadata": {},
   "source": [
    "# Install WandB\n",
    "!pip install wandb\n",
    "\n",
    "# Login to WandB\n",
    "import wandb\n",
    "wandb.login()\n",
    "\n",
    "# Run with WandB monitoring\n",
    "!python run_with_gpu.py --use_8bit --wandb"
   ]
  },
  {
   "cell_type": "markdown",
   "metadata": {},
   "source": [
    "## Troubleshooting Tips\n",
    "\n",
    "1. If you run out of GPU memory:\n",
    "   - Add `--use_8bit` flag to use 8-bit quantization\n",
    "   - Reduce batch size in config.py\n",
    "\n",
    "2. If the training takes too long:\n",
    "   - Consider using a smaller subset of your data\n",
    "   - Reduce the number of epochs\n",
    "\n",
    "3. If you encounter CUDA errors:\n",
    "   - Restart the Colab runtime\n",
    "   - Ensure you're using a GPU runtime\n",
    "   - Check if your Hugging Face token is valid"
   ]
  },
  {
   "cell_type": "markdown",
   "metadata": {},
   "source": [
    "## Next Steps\n",
    "\n",
    "After training is complete:\n",
    "1. Download the fine-tuned model\n",
    "2. Test the model's performance\n",
    "3. Deploy the model for inference\n",
    "\n",
    "You can find the evaluation results in the `evaluation_results` directory."
   ]
  }
 ],
 "metadata": {
  "kernelspec": {
   "display_name": "Python 3",
   "language": "python",
   "name": "python3"
  },
  "language_info": {
   "codemirror_mode": {
    "name": "ipython",
    "version": 3
   },
   "file_extension": ".py",
   "mimetype": "text/x-python",
   "name": "python",
   "nbconvert_exporter": "python",
   "pygments_lexer": "ipython3",
   "version": "3.8.0"
  }
 },
 "nbformat": 4,
 "nbformat_minor": 4
}
